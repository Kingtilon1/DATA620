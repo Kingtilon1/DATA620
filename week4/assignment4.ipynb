{
 "cells": [
  {
   "cell_type": "markdown",
   "metadata": {},
   "source": [
    "### Define feature extractor"
   ]
  },
  {
   "cell_type": "code",
   "execution_count": 68,
   "metadata": {},
   "outputs": [],
   "source": [
    "def gender_features(word):\n",
    "    return {'last_letter': word[-1:]}"
   ]
  },
  {
   "cell_type": "markdown",
   "metadata": {},
   "source": [
    "### Create list of names"
   ]
  },
  {
   "cell_type": "code",
   "execution_count": 69,
   "metadata": {},
   "outputs": [],
   "source": [
    "from nltk.corpus import names\n",
    "import random\n",
    "import nltk\n",
    "\n",
    "names=([(name, 'male') for name in names.words('male.txt')]+\n",
    "       [(name, 'female') for name in names.words('female.txt')])\n",
    "random.shuffle(names)"
   ]
  },
  {
   "cell_type": "markdown",
   "metadata": {},
   "source": [
    "### Create our feature and test sets and classify the data"
   ]
  },
  {
   "cell_type": "code",
   "execution_count": 70,
   "metadata": {},
   "outputs": [],
   "source": [
    "train_names,devtest_names, test_names = names[:6901], names[6901:7402], names[7402:7903]\n",
    "train_set = [(gender_features(n), g) for (n,g) in train_names]\n",
    "devtest_set = [(gender_features(n), g) for (n,g) in devtest_names]\n",
    "test_set = [(gender_features(n), g) for (n,g) in test_names]\n",
    "classifier = nltk.NaiveBayesClassifier.train(train_set)"
   ]
  },
  {
   "cell_type": "code",
   "execution_count": 71,
   "metadata": {},
   "outputs": [
    {
     "data": {
      "text/plain": [
       "'female'"
      ]
     },
     "execution_count": 71,
     "metadata": {},
     "output_type": "execute_result"
    }
   ],
   "source": [
    "classifier.classify(gender_features('Avery'))"
   ]
  },
  {
   "cell_type": "markdown",
   "metadata": {},
   "source": [
    "### Now lets test the accuracy"
   ]
  },
  {
   "cell_type": "code",
   "execution_count": 72,
   "metadata": {},
   "outputs": [
    {
     "name": "stdout",
     "output_type": "stream",
     "text": [
      "0.7844311377245509\n"
     ]
    }
   ],
   "source": [
    "print(nltk.classify.accuracy(classifier, test_set))"
   ]
  },
  {
   "cell_type": "markdown",
   "metadata": {},
   "source": [
    "### The model is about 76% accurate"
   ]
  },
  {
   "cell_type": "markdown",
   "metadata": {},
   "source": [
    "### Rebuilding the gender features function to incorporate the last 2 letetrs in a persons name"
   ]
  },
  {
   "cell_type": "code",
   "execution_count": 73,
   "metadata": {},
   "outputs": [],
   "source": [
    "def gender_features(word):\n",
    "    return {'suffix1': word[-1:],\n",
    "            'suffix2': word[-2:]}"
   ]
  },
  {
   "cell_type": "markdown",
   "metadata": {},
   "source": [
    "### Re train the set"
   ]
  },
  {
   "cell_type": "code",
   "execution_count": 74,
   "metadata": {},
   "outputs": [
    {
     "name": "stdout",
     "output_type": "stream",
     "text": [
      "0.7445109780439122\n"
     ]
    }
   ],
   "source": [
    "train_set = [(gender_features(n), g) for (n,g) in train_names]\n",
    "devtest_set = [(gender_features(n), g) for (n,g) in devtest_names]\n",
    "classifier = nltk.NaiveBayesClassifier.train(train_set)\n",
    "print(nltk.classify.accuracy(classifier, devtest_set))"
   ]
  },
  {
   "cell_type": "markdown",
   "metadata": {},
   "source": [
    "### Our accuracy improved by 4%! Lets store the errors in a list to examine them more closely"
   ]
  },
  {
   "cell_type": "code",
   "execution_count": 75,
   "metadata": {},
   "outputs": [
    {
     "name": "stdout",
     "output_type": "stream",
     "text": [
      "correct=female   guess=male     name=Abagail                       \n",
      "correct=female   guess=male     name=Alix                          \n",
      "correct=female   guess=male     name=Arden                         \n",
      "correct=female   guess=male     name=Arleen                        \n",
      "correct=female   guess=male     name=Aubrey                        \n",
      "correct=female   guess=male     name=Austin                        \n",
      "correct=female   guess=male     name=Averil                        \n",
      "correct=female   guess=male     name=Bamby                         \n",
      "correct=female   guess=male     name=Barry                         \n",
      "correct=female   guess=male     name=Bell                          \n",
      "correct=female   guess=male     name=Bess                          \n",
      "correct=female   guess=male     name=Bill                          \n",
      "correct=female   guess=male     name=Blair                         \n",
      "correct=female   guess=male     name=Brittney                      \n",
      "correct=female   guess=male     name=Brook                         \n",
      "correct=female   guess=male     name=Brooke                        \n",
      "correct=female   guess=male     name=Caitlin                       \n",
      "correct=female   guess=male     name=Calypso                       \n",
      "correct=female   guess=male     name=Cassandry                     \n",
      "correct=female   guess=male     name=Chery                         \n",
      "correct=female   guess=male     name=Christal                      \n",
      "correct=female   guess=male     name=Chrystal                      \n",
      "correct=female   guess=male     name=Cleo                          \n",
      "correct=female   guess=male     name=Debor                         \n",
      "correct=female   guess=male     name=Delores                       \n",
      "correct=female   guess=male     name=Deloris                       \n",
      "correct=female   guess=male     name=Eileen                        \n",
      "correct=female   guess=male     name=Eilis                         \n",
      "correct=female   guess=male     name=Eleanor                       \n",
      "correct=female   guess=male     name=Fallon                        \n",
      "correct=female   guess=male     name=Fan                           \n",
      "correct=female   guess=male     name=Felicdad                      \n",
      "correct=female   guess=male     name=Gertrudis                     \n",
      "correct=female   guess=male     name=Gillan                        \n",
      "correct=female   guess=male     name=Gladis                        \n",
      "correct=female   guess=male     name=Gretchen                      \n",
      "correct=female   guess=male     name=Harriett                      \n",
      "correct=female   guess=male     name=Hope                          \n",
      "correct=female   guess=male     name=Isabel                        \n",
      "correct=female   guess=male     name=Janeen                        \n",
      "correct=female   guess=male     name=Janis                         \n",
      "correct=female   guess=male     name=Jennifer                      \n",
      "correct=female   guess=male     name=Jess                          \n",
      "correct=female   guess=male     name=Jillian                       \n",
      "correct=female   guess=male     name=Jocelin                       \n",
      "correct=female   guess=male     name=Jordain                       \n",
      "correct=female   guess=male     name=Karen                         \n",
      "correct=female   guess=male     name=Kerry                         \n",
      "correct=female   guess=male     name=Kristan                       \n",
      "correct=female   guess=male     name=Kym                           \n",
      "correct=female   guess=male     name=Leland                        \n",
      "correct=female   guess=male     name=Lindsay                       \n",
      "correct=female   guess=male     name=Linnet                        \n",
      "correct=female   guess=male     name=Lizzy                         \n",
      "correct=female   guess=male     name=Lyndsay                       \n",
      "correct=female   guess=male     name=Mabel                         \n",
      "correct=female   guess=male     name=Madel                         \n",
      "correct=female   guess=male     name=Mair                          \n",
      "correct=female   guess=male     name=Marilin                       \n",
      "correct=female   guess=male     name=Marney                        \n",
      "correct=female   guess=male     name=Nanon                         \n",
      "correct=female   guess=male     name=Nert                          \n",
      "correct=female   guess=male     name=Nike                          \n",
      "correct=female   guess=male     name=Pat                           \n",
      "correct=female   guess=male     name=Penelope                      \n",
      "correct=female   guess=male     name=Pet                           \n",
      "correct=female   guess=male     name=Piper                         \n",
      "correct=female   guess=male     name=Rosamond                      \n",
      "correct=female   guess=male     name=Rosamund                      \n",
      "correct=female   guess=male     name=Row                           \n",
      "correct=female   guess=male     name=Scarlet                       \n",
      "correct=female   guess=male     name=Sheelagh                      \n",
      "correct=female   guess=male     name=Stacey                        \n",
      "correct=female   guess=male     name=Stoddard                      \n",
      "correct=female   guess=male     name=Sukey                         \n",
      "correct=female   guess=male     name=Tess                          \n",
      "correct=female   guess=male     name=Thomasin                      \n",
      "correct=female   guess=male     name=Veradis                       \n",
      "correct=female   guess=male     name=Vin                           \n",
      "correct=male     guess=female   name=Alfonse                       \n",
      "correct=male     guess=female   name=Andy                          \n",
      "correct=male     guess=female   name=Archie                        \n",
      "correct=male     guess=female   name=Ave                           \n",
      "correct=male     guess=female   name=Benny                         \n",
      "correct=male     guess=female   name=Brice                         \n",
      "correct=male     guess=female   name=Brody                         \n",
      "correct=male     guess=female   name=Bryn                          \n",
      "correct=male     guess=female   name=Caryl                         \n",
      "correct=male     guess=female   name=Chaddy                        \n",
      "correct=male     guess=female   name=Clive                         \n",
      "correct=male     guess=female   name=Dane                          \n",
      "correct=male     guess=female   name=Dannie                        \n",
      "correct=male     guess=female   name=Danny                         \n",
      "correct=male     guess=female   name=Deane                         \n",
      "correct=male     guess=female   name=Dominique                     \n",
      "correct=male     guess=female   name=Donnie                        \n",
      "correct=male     guess=female   name=Duane                         \n",
      "correct=male     guess=female   name=Earle                         \n",
      "correct=male     guess=female   name=Erny                          \n",
      "correct=male     guess=female   name=Germaine                      \n",
      "correct=male     guess=female   name=Hale                          \n",
      "correct=male     guess=female   name=Hasty                         \n",
      "correct=male     guess=female   name=Herve                         \n",
      "correct=male     guess=female   name=Jeremie                       \n",
      "correct=male     guess=female   name=Jodie                         \n",
      "correct=male     guess=female   name=Jose                          \n",
      "correct=male     guess=female   name=Judy                          \n",
      "correct=male     guess=female   name=Kane                          \n",
      "correct=male     guess=female   name=Kennedy                       \n",
      "correct=male     guess=female   name=Lane                          \n",
      "correct=male     guess=female   name=Lonnie                        \n",
      "correct=male     guess=female   name=Lorrie                        \n",
      "correct=male     guess=female   name=Manny                         \n",
      "correct=male     guess=female   name=Maxie                         \n",
      "correct=male     guess=female   name=Mordecai                      \n",
      "correct=male     guess=female   name=Ossie                         \n",
      "correct=male     guess=female   name=Partha                        \n",
      "correct=male     guess=female   name=Quinn                         \n",
      "correct=male     guess=female   name=Salvatore                     \n",
      "correct=male     guess=female   name=Saxe                          \n",
      "correct=male     guess=female   name=Sibyl                         \n",
      "correct=male     guess=female   name=Skippy                        \n",
      "correct=male     guess=female   name=Tobe                          \n",
      "correct=male     guess=female   name=Toddie                        \n",
      "correct=male     guess=female   name=Tonnie                        \n",
      "correct=male     guess=female   name=Wallace                       \n",
      "correct=male     guess=female   name=Yale                          \n",
      "correct=male     guess=female   name=Yehudi                        \n"
     ]
    }
   ],
   "source": [
    "errors = []\n",
    "for (name,tag) in devtest_names:\n",
    "    guess = classifier.classify(gender_features(name))\n",
    "    if guess != tag:\n",
    "        errors.append((tag,guess,name))\n",
    "for (tag, guess, name) in sorted(errors):  # doctest: +ELLIPSIS +NORMALIZE_WHITESPACE\n",
    "    print('correct={:<8} guess={:<8} name={:<30}'.format(tag, guess, name))"
   ]
  },
  {
   "cell_type": "markdown",
   "metadata": {},
   "source": [
    "### Lets see if the number of vowels has effect on the gender of the name"
   ]
  },
  {
   "cell_type": "code",
   "execution_count": 76,
   "metadata": {},
   "outputs": [
    {
     "name": "stdout",
     "output_type": "stream",
     "text": [
      "Dev-Test Set Accuracy: 0.7524950099800399\n"
     ]
    }
   ],
   "source": [
    "def count_vowels(name):\n",
    "    return sum(1 for letter in name if letter.lower() in 'aeiou')\n",
    "\n",
    "def gender_features(name):\n",
    "    return {\n",
    "        'suffix2': name[-2:],  \n",
    "        'num_vowels': count_vowels(name) \n",
    "    }\n",
    "\n",
    "train_set = [(gender_features(n), g) for (n, g) in train_names]\n",
    "devtest_set = [(gender_features(n), g) for (n, g) in devtest_names]\n",
    "test_set = [(gender_features(n), g) for (n, g) in test_names]\n",
    "\n",
    "classifier = nltk.NaiveBayesClassifier.train(train_set)\n",
    "\n",
    "devtest_accuracy = nltk.classify.accuracy(classifier, devtest_set)\n",
    "print(f'Dev-Test Set Accuracy: {devtest_accuracy}')"
   ]
  },
  {
   "cell_type": "markdown",
   "metadata": {},
   "source": [
    "### Now that we have seen a 1% improvment, lets evaluate the classifier on the test set"
   ]
  },
  {
   "cell_type": "code",
   "execution_count": 77,
   "metadata": {},
   "outputs": [
    {
     "name": "stdout",
     "output_type": "stream",
     "text": [
      "Test Set Accuracy: 0.7904191616766467\n"
     ]
    }
   ],
   "source": [
    "test_accuracy = nltk.classify.accuracy(classifier, test_set)\n",
    "print(f'Test Set Accuracy: {test_accuracy}')"
   ]
  },
  {
   "cell_type": "markdown",
   "metadata": {},
   "source": [
    "### Seeing that the test set is less acurate than the Dev test-set, lets perform cross validation to perform multiple evaluations on different test sets"
   ]
  },
  {
   "cell_type": "code",
   "execution_count": 78,
   "metadata": {},
   "outputs": [
    {
     "name": "stdout",
     "output_type": "stream",
     "text": [
      "Average Cross-Validation Accuracy: 0.7821158690176324\n"
     ]
    }
   ],
   "source": [
    "from nltk.corpus import names  \n",
    "from nltk.classify.util import accuracy\n",
    "\n",
    "male_names = names.words('male.txt')\n",
    "female_names = names.words('female.txt')\n",
    "labeled_male_names = [(name, 'male') for name in male_names]\n",
    "labeled_female_names = [(name, 'female') for name in female_names]\n",
    "\n",
    "labeled_names = labeled_male_names + labeled_female_names\n",
    "random.shuffle(labeled_names)\n",
    "\n",
    "data = [(gender_features(n), g) for (n, g) in labeled_names]\n",
    "def cross_validate(data, folds=5):\n",
    "    subset_size = len(data) // folds\n",
    "    accuracy_scores = []\n",
    "    \n",
    "    for i in range(folds):\n",
    "        test_data = data[i*subset_size:(i+1)*subset_size]\n",
    "        train_data = data[:i*subset_size] + data[(i+1)*subset_size:]\n",
    "        \n",
    "        classifier = nltk.NaiveBayesClassifier.train(train_data)\n",
    "        accuracy_scores.append(accuracy(classifier, test_data))\n",
    "    \n",
    "    return sum(accuracy_scores) / len(accuracy_scores)\n",
    "\n",
    "\n",
    "average_accuracy = cross_validate(data, folds=5)\n",
    "print(f'Average Cross-Validation Accuracy: {average_accuracy}')"
   ]
  }
 ],
 "metadata": {
  "kernelspec": {
   "display_name": "sps620env",
   "language": "python",
   "name": "python3"
  },
  "language_info": {
   "codemirror_mode": {
    "name": "ipython",
    "version": 3
   },
   "file_extension": ".py",
   "mimetype": "text/x-python",
   "name": "python",
   "nbconvert_exporter": "python",
   "pygments_lexer": "ipython3",
   "version": "3.7.16"
  }
 },
 "nbformat": 4,
 "nbformat_minor": 2
}
