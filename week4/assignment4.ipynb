{
 "cells": [
  {
   "cell_type": "markdown",
   "metadata": {},
   "source": [
    "### Define feature extractor"
   ]
  },
  {
   "cell_type": "code",
   "execution_count": 80,
   "metadata": {},
   "outputs": [],
   "source": [
    "def gender_features(word):\n",
    "    return {'last_letter': word[-1:]}"
   ]
  },
  {
   "cell_type": "markdown",
   "metadata": {},
   "source": [
    "### Create list of names"
   ]
  },
  {
   "cell_type": "code",
   "execution_count": 81,
   "metadata": {},
   "outputs": [],
   "source": [
    "from nltk.corpus import names\n",
    "import random\n",
    "import nltk\n",
    "\n",
    "names=([(name, 'male') for name in names.words('male.txt')]+\n",
    "       [(name, 'female') for name in names.words('female.txt')])\n",
    "random.shuffle(names)"
   ]
  },
  {
   "cell_type": "markdown",
   "metadata": {},
   "source": [
    "### Create our feature and test sets and classify the data"
   ]
  },
  {
   "cell_type": "code",
   "execution_count": 82,
   "metadata": {},
   "outputs": [],
   "source": [
    "train_names,devtest_names, test_names = names[:6901], names[6901:7402], names[7402:7903]\n",
    "train_set = [(gender_features(n), g) for (n,g) in train_names]\n",
    "devtest_set = [(gender_features(n), g) for (n,g) in devtest_names]\n",
    "test_set = [(gender_features(n), g) for (n,g) in test_names]\n",
    "classifier = nltk.NaiveBayesClassifier.train(train_set)"
   ]
  },
  {
   "cell_type": "code",
   "execution_count": 83,
   "metadata": {},
   "outputs": [
    {
     "data": {
      "text/plain": [
       "'female'"
      ]
     },
     "execution_count": 83,
     "metadata": {},
     "output_type": "execute_result"
    }
   ],
   "source": [
    "classifier.classify(gender_features('Avery'))"
   ]
  },
  {
   "cell_type": "markdown",
   "metadata": {},
   "source": [
    "### Now lets test the accuracy"
   ]
  },
  {
   "cell_type": "code",
   "execution_count": 84,
   "metadata": {},
   "outputs": [
    {
     "name": "stdout",
     "output_type": "stream",
     "text": [
      "0.7524950099800399\n"
     ]
    }
   ],
   "source": [
    "print(nltk.classify.accuracy(classifier, test_set))"
   ]
  },
  {
   "cell_type": "markdown",
   "metadata": {},
   "source": [
    "### The model is about 76% accurate"
   ]
  },
  {
   "cell_type": "markdown",
   "metadata": {},
   "source": [
    "### Rebuilding the gender features function to incorporate the last 2 letetrs in a persons name"
   ]
  },
  {
   "cell_type": "code",
   "execution_count": 85,
   "metadata": {},
   "outputs": [],
   "source": [
    "def gender_features(word):\n",
    "    return {'suffix1': word[-1:],\n",
    "            'suffix2': word[-2:]}"
   ]
  },
  {
   "cell_type": "markdown",
   "metadata": {},
   "source": [
    "### Re train the set"
   ]
  },
  {
   "cell_type": "code",
   "execution_count": 86,
   "metadata": {},
   "outputs": [
    {
     "name": "stdout",
     "output_type": "stream",
     "text": [
      "0.7405189620758483\n"
     ]
    }
   ],
   "source": [
    "train_set = [(gender_features(n), g) for (n,g) in train_names]\n",
    "devtest_set = [(gender_features(n), g) for (n,g) in devtest_names]\n",
    "classifier = nltk.NaiveBayesClassifier.train(train_set)\n",
    "print(nltk.classify.accuracy(classifier, devtest_set))"
   ]
  },
  {
   "cell_type": "markdown",
   "metadata": {},
   "source": [
    "### Our accuracy improved by 4%! Lets store the errors in a list to examine them more closely"
   ]
  },
  {
   "cell_type": "code",
   "execution_count": 87,
   "metadata": {},
   "outputs": [
    {
     "name": "stdout",
     "output_type": "stream",
     "text": [
      "correct=female   guess=male     name=Adey                          \n",
      "correct=female   guess=male     name=Aleen                         \n",
      "correct=female   guess=male     name=Alex                          \n",
      "correct=female   guess=male     name=Alexis                        \n",
      "correct=female   guess=male     name=Allsun                        \n",
      "correct=female   guess=male     name=Annabal                       \n",
      "correct=female   guess=male     name=Ansley                        \n",
      "correct=female   guess=male     name=Beau                          \n",
      "correct=female   guess=male     name=Bridget                       \n",
      "correct=female   guess=male     name=Buffy                         \n",
      "correct=female   guess=male     name=Calypso                       \n",
      "correct=female   guess=male     name=Cam                           \n",
      "correct=female   guess=male     name=Carlin                        \n",
      "correct=female   guess=male     name=Carolan                       \n",
      "correct=female   guess=male     name=Charil                        \n",
      "correct=female   guess=male     name=Charlot                       \n",
      "correct=female   guess=male     name=Christean                     \n",
      "correct=female   guess=male     name=Clair                         \n",
      "correct=female   guess=male     name=Clem                          \n",
      "correct=female   guess=male     name=Conney                        \n",
      "correct=female   guess=male     name=Coriss                        \n",
      "correct=female   guess=male     name=Crystal                       \n",
      "correct=female   guess=male     name=Danit                         \n",
      "correct=female   guess=male     name=Dolley                        \n",
      "correct=female   guess=male     name=Farrand                       \n",
      "correct=female   guess=male     name=Faun                          \n",
      "correct=female   guess=male     name=Harley                        \n",
      "correct=female   guess=male     name=Hildagard                     \n",
      "correct=female   guess=male     name=Imogen                        \n",
      "correct=female   guess=male     name=Ines                          \n",
      "correct=female   guess=male     name=Ingaborg                      \n",
      "correct=female   guess=male     name=Inger                         \n",
      "correct=female   guess=male     name=Jacky                         \n",
      "correct=female   guess=male     name=Jaclin                        \n",
      "correct=female   guess=male     name=Jan                           \n",
      "correct=female   guess=male     name=Jessalin                      \n",
      "correct=female   guess=male     name=Jojo                          \n",
      "correct=female   guess=male     name=Jordain                       \n",
      "correct=female   guess=male     name=Jourdan                       \n",
      "correct=female   guess=male     name=Joycelin                      \n",
      "correct=female   guess=male     name=Juliet                        \n",
      "correct=female   guess=male     name=Karry                         \n",
      "correct=female   guess=male     name=Kathleen                      \n",
      "correct=female   guess=male     name=Kerrill                       \n",
      "correct=female   guess=male     name=Koral                         \n",
      "correct=female   guess=male     name=Lauren                        \n",
      "correct=female   guess=male     name=Lin                           \n",
      "correct=female   guess=male     name=Lorain                        \n",
      "correct=female   guess=male     name=Lyndel                        \n",
      "correct=female   guess=male     name=Lynett                        \n",
      "correct=female   guess=male     name=Madlen                        \n",
      "correct=female   guess=male     name=Mariam                        \n",
      "correct=female   guess=male     name=Marleen                       \n",
      "correct=female   guess=male     name=Marris                        \n",
      "correct=female   guess=male     name=Mehetabel                     \n",
      "correct=female   guess=male     name=Michal                        \n",
      "correct=female   guess=male     name=Micky                         \n",
      "correct=female   guess=male     name=Miriam                        \n",
      "correct=female   guess=male     name=Muffin                        \n",
      "correct=female   guess=male     name=Myriam                        \n",
      "correct=female   guess=male     name=Pat                           \n",
      "correct=female   guess=male     name=Pru                           \n",
      "correct=female   guess=male     name=Ray                           \n",
      "correct=female   guess=male     name=Reiko                         \n",
      "correct=female   guess=male     name=Riannon                       \n",
      "correct=female   guess=male     name=Robby                         \n",
      "correct=female   guess=male     name=Rosario                       \n",
      "correct=female   guess=male     name=Sharron                       \n",
      "correct=female   guess=male     name=Shay                          \n",
      "correct=female   guess=male     name=Sher                          \n",
      "correct=female   guess=male     name=Star                          \n",
      "correct=female   guess=male     name=Tish                          \n",
      "correct=female   guess=male     name=Torey                         \n",
      "correct=female   guess=male     name=Venus                         \n",
      "correct=female   guess=male     name=Willyt                        \n",
      "correct=female   guess=male     name=Yoko                          \n",
      "correct=male     guess=female   name=Allah                         \n",
      "correct=male     guess=female   name=Andy                          \n",
      "correct=male     guess=female   name=Antony                        \n",
      "correct=male     guess=female   name=Aube                          \n",
      "correct=male     guess=female   name=Augustine                     \n",
      "correct=male     guess=female   name=Avi                           \n",
      "correct=male     guess=female   name=Baillie                       \n",
      "correct=male     guess=female   name=Baily                         \n",
      "correct=male     guess=female   name=Bennie                        \n",
      "correct=male     guess=female   name=Bryn                          \n",
      "correct=male     guess=female   name=Clayborne                     \n",
      "correct=male     guess=female   name=Clive                         \n",
      "correct=male     guess=female   name=Dana                          \n",
      "correct=male     guess=female   name=Dane                          \n",
      "correct=male     guess=female   name=Dante                         \n",
      "correct=male     guess=female   name=Dominique                     \n",
      "correct=male     guess=female   name=Durante                       \n",
      "correct=male     guess=female   name=Elmore                        \n",
      "correct=male     guess=female   name=Emile                         \n",
      "correct=male     guess=female   name=Hezekiah                      \n",
      "correct=male     guess=female   name=Iggie                         \n",
      "correct=male     guess=female   name=Jerri                         \n",
      "correct=male     guess=female   name=Jessee                        \n",
      "correct=male     guess=female   name=Kenny                         \n",
      "correct=male     guess=female   name=Lane                          \n",
      "correct=male     guess=female   name=Lefty                         \n",
      "correct=male     guess=female   name=Llewellyn                     \n",
      "correct=male     guess=female   name=Maurie                        \n",
      "correct=male     guess=female   name=Morty                         \n",
      "correct=male     guess=female   name=Natale                        \n",
      "correct=male     guess=female   name=Neddy                         \n",
      "correct=male     guess=female   name=Nichole                       \n",
      "correct=male     guess=female   name=Ole                           \n",
      "correct=male     guess=female   name=Ozzy                          \n",
      "correct=male     guess=female   name=Paige                         \n",
      "correct=male     guess=female   name=Pascale                       \n",
      "correct=male     guess=female   name=Pattie                        \n",
      "correct=male     guess=female   name=Pearce                        \n",
      "correct=male     guess=female   name=Quincy                        \n",
      "correct=male     guess=female   name=Reilly                        \n",
      "correct=male     guess=female   name=Roddy                         \n",
      "correct=male     guess=female   name=Roni                          \n",
      "correct=male     guess=female   name=Serge                         \n",
      "correct=male     guess=female   name=Skippie                       \n",
      "correct=male     guess=female   name=Sonnie                        \n",
      "correct=male     guess=female   name=Udale                         \n",
      "correct=male     guess=female   name=Verge                         \n",
      "correct=male     guess=female   name=Vince                         \n",
      "correct=male     guess=female   name=Vinny                         \n",
      "correct=male     guess=female   name=Voltaire                      \n",
      "correct=male     guess=female   name=Wade                          \n",
      "correct=male     guess=female   name=Waine                         \n",
      "correct=male     guess=female   name=Winn                          \n",
      "correct=male     guess=female   name=Yale                          \n"
     ]
    }
   ],
   "source": [
    "errors = []\n",
    "for (name,tag) in devtest_names:\n",
    "    guess = classifier.classify(gender_features(name))\n",
    "    if guess != tag:\n",
    "        errors.append((tag,guess,name))\n",
    "for (tag, guess, name) in sorted(errors):  # doctest: +ELLIPSIS +NORMALIZE_WHITESPACE\n",
    "    print('correct={:<8} guess={:<8} name={:<30}'.format(tag, guess, name))"
   ]
  },
  {
   "cell_type": "markdown",
   "metadata": {},
   "source": [
    "### Lets see if the number of vowels has effect on the gender of the name"
   ]
  },
  {
   "cell_type": "code",
   "execution_count": 88,
   "metadata": {},
   "outputs": [
    {
     "name": "stdout",
     "output_type": "stream",
     "text": [
      "Dev-Test Set Accuracy: 0.7504990019960079\n"
     ]
    }
   ],
   "source": [
    "def count_vowels(name):\n",
    "    return sum(1 for letter in name if letter.lower() in 'aeiou')\n",
    "\n",
    "def gender_features(name):\n",
    "    return {\n",
    "        'suffix2': name[-2:],  \n",
    "        'num_vowels': count_vowels(name) \n",
    "    }\n",
    "\n",
    "train_set = [(gender_features(n), g) for (n, g) in train_names]\n",
    "devtest_set = [(gender_features(n), g) for (n, g) in devtest_names]\n",
    "test_set = [(gender_features(n), g) for (n, g) in test_names]\n",
    "\n",
    "classifier = nltk.NaiveBayesClassifier.train(train_set)\n",
    "\n",
    "devtest_accuracy = nltk.classify.accuracy(classifier, devtest_set)\n",
    "print(f'Dev-Test Set Accuracy: {devtest_accuracy}')"
   ]
  },
  {
   "cell_type": "markdown",
   "metadata": {},
   "source": [
    "### Now that we have seen a 1% improvment, lets evaluate the classifier on the test set"
   ]
  },
  {
   "cell_type": "code",
   "execution_count": 89,
   "metadata": {},
   "outputs": [
    {
     "name": "stdout",
     "output_type": "stream",
     "text": [
      "Test Set Accuracy: 0.7524950099800399\n"
     ]
    }
   ],
   "source": [
    "test_accuracy = nltk.classify.accuracy(classifier, test_set)\n",
    "print(f'Test Set Accuracy: {test_accuracy}')"
   ]
  },
  {
   "cell_type": "markdown",
   "metadata": {},
   "source": [
    "### Seeing that the test set is less acurate than the Dev test-set, lets perform cross validation to perform multiple evaluations on different test sets"
   ]
  },
  {
   "cell_type": "code",
   "execution_count": 90,
   "metadata": {},
   "outputs": [
    {
     "name": "stdout",
     "output_type": "stream",
     "text": [
      "Average Cross-Validation Accuracy: 0.778337531486146\n"
     ]
    }
   ],
   "source": [
    "from nltk.corpus import names  \n",
    "from nltk.classify.util import accuracy\n",
    "\n",
    "male_names = names.words('male.txt')\n",
    "female_names = names.words('female.txt')\n",
    "labeled_male_names = [(name, 'male') for name in male_names]\n",
    "labeled_female_names = [(name, 'female') for name in female_names]\n",
    "\n",
    "labeled_names = labeled_male_names + labeled_female_names\n",
    "random.shuffle(labeled_names)\n",
    "\n",
    "data = [(gender_features(n), g) for (n, g) in labeled_names]\n",
    "def cross_validate(data, folds=5):\n",
    "    subset_size = len(data) // folds\n",
    "    accuracy_scores = []\n",
    "    \n",
    "    for i in range(folds):\n",
    "        test_data = data[i*subset_size:(i+1)*subset_size]\n",
    "        train_data = data[:i*subset_size] + data[(i+1)*subset_size:]\n",
    "        \n",
    "        classifier = nltk.NaiveBayesClassifier.train(train_data)\n",
    "        accuracy_scores.append(accuracy(classifier, test_data))\n",
    "    \n",
    "    return sum(accuracy_scores) / len(accuracy_scores)\n",
    "\n",
    "\n",
    "average_accuracy = cross_validate(data, folds=5)\n",
    "print(f'Average Cross-Validation Accuracy: {average_accuracy}')"
   ]
  }
 ],
 "metadata": {
  "kernelspec": {
   "display_name": "sps620env",
   "language": "python",
   "name": "python3"
  },
  "language_info": {
   "codemirror_mode": {
    "name": "ipython",
    "version": 3
   },
   "file_extension": ".py",
   "mimetype": "text/x-python",
   "name": "python",
   "nbconvert_exporter": "python",
   "pygments_lexer": "ipython3",
   "version": "3.7.16"
  }
 },
 "nbformat": 4,
 "nbformat_minor": 2
}
