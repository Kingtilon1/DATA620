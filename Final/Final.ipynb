{
 "cells": [
  {
   "cell_type": "markdown",
   "metadata": {},
   "source": []
  },
  {
   "cell_type": "code",
   "execution_count": 2,
   "metadata": {},
   "outputs": [],
   "source": [
    "import requests\n",
    "from bs4 import BeautifulSoup\n",
    "import pandas as pd\n",
    "import nltk\n",
    "from nltk.corpus import stopwords\n",
    "from nltk.tokenize import word_tokenize\n",
    "from nltk.stem import WordNetLemmatizer\n",
    "from nltk.sentiment.vader import SentimentIntensityAnalyzer\n",
    "import matplotlib.pyplot as plt\n",
    "import seaborn as sns"
   ]
  },
  {
   "cell_type": "markdown",
   "metadata": {},
   "source": [
    "### List of specific speech URLs"
   ]
  },
  {
   "cell_type": "code",
   "execution_count": 3,
   "metadata": {},
   "outputs": [],
   "source": [
    "speech_urls = [\n",
    "    'https://www.presidency.ucsb.edu/documents/inaugural-address-53',\n",
    "    'https://www.presidency.ucsb.edu/documents/inaugural-address-14',\n",
    "    'https://www.presidency.ucsb.edu/documents/inaugural-address-15',\n",
    "    'https://www.presidency.ucsb.edu/documents/address-before-joint-session-the-congress-the-state-the-union-28',\n",
    "    'https://www.presidency.ucsb.edu/documents/address-before-joint-session-the-congress-the-state-the-union-17',\n",
    "    'https://www.presidency.ucsb.edu/documents/address-before-joint-session-the-congress-the-state-the-union'\n",
    "]"
   ]
  },
  {
   "cell_type": "markdown",
   "metadata": {},
   "source": [
    "### Here I created a function to get the title, date, and contenth for each presidential speech provided."
   ]
  },
  {
   "cell_type": "code",
   "execution_count": 4,
   "metadata": {},
   "outputs": [],
   "source": [
    "def scrape_speech(url):\n",
    "    response = requests.get(url)\n",
    "    soup = BeautifulSoup(response.content, 'html.parser')\n",
    "    \n",
    "    # Extract title\n",
    "    title = soup.find('h1').text if soup.find('h1') else 'No Title'\n",
    "    \n",
    "    date_div = soup.find('div', {'class': 'field-docs-start-date-time'})\n",
    "    date = date_div.find('span').get('content') if date_div else 'No Date'\n",
    "    \n",
    "    # Extract content\n",
    "    content_div = soup.find('div', {'class': 'field-docs-content'})\n",
    "    content = content_div.text.strip() if content_div else 'No Content'\n",
    "    \n",
    "    return title, date, content"
   ]
  },
  {
   "cell_type": "markdown",
   "metadata": {},
   "source": [
    "### For every url provided, I will call the scrape fucntion and store the title, data, and content in an array to then turn it into a data frame."
   ]
  },
  {
   "cell_type": "code",
   "execution_count": 5,
   "metadata": {},
   "outputs": [
    {
     "name": "stdout",
     "output_type": "stream",
     "text": [
      "Data collection complete. Saved to presidential_speeches.csv\n"
     ]
    }
   ],
   "source": [
    "speeches = []\n",
    "for url in speech_urls:\n",
    "    try:\n",
    "        title, date, content = scrape_speech(url)\n",
    "        speeches.append({'title': title, 'date': date, 'content': content})\n",
    "    except Exception as e:\n",
    "        print(f\"Failed to scrape {url}: {e}\")\n",
    "\n",
    "df = pd.DataFrame(speeches)\n",
    "df.to_csv('presidential_speeches.csv', index=False)\n",
    "\n",
    "print(\"Data collection complete. Saved to presidential_speeches.csv\")"
   ]
  },
  {
   "cell_type": "markdown",
   "metadata": {},
   "source": [
    "### This part of the code initializes two key components for text preprocessing:\n",
    "- `stop_words`: A set of common English words (like \"and\", \"the\", \"is\") that are often removed from text data because they do not contribute much to the meaning.\n",
    "- `lemmatizer`: An instance of the `WordNetLemmatizer` class, which is used to reduce words to their base or root form (e.g., \"running\" becomes \"run\"). This helps in standardizing the words in the text data."
   ]
  },
  {
   "cell_type": "code",
   "execution_count": 15,
   "metadata": {},
   "outputs": [],
   "source": [
    "df = pd.read_csv('presidential_speeches.csv')\n",
    "\n",
    "stop_words = set(stopwords.words('english'))\n",
    "lemmatizer = WordNetLemmatizer()"
   ]
  },
  {
   "cell_type": "code",
   "execution_count": 7,
   "metadata": {},
   "outputs": [],
   "source": [
    "def preprocess_text(text):\n",
    "    # Tokenize the text\n",
    "    words = word_tokenize(text.lower())\n",
    "    # Remove stop words and lemmatize\n",
    "    words = [lemmatizer.lemmatize(word) for word in words if word.isalpha() and word not in stop_words]\n",
    "    return ' '.join(words)\n"
   ]
  },
  {
   "cell_type": "markdown",
   "metadata": {},
   "source": [
    "### This part of the code processes the text of each speech and saves the cleaned data to a new CSV file:\n",
    "- The `preprocess_text` function is applied to each speech in the 'content' column, and the results are stored in a new column called 'processed_content'.\n",
    "- The DataFrame, now including the cleaned text, is saved to a CSV file named 'processed_presidential_speeches.csv'.\n",
    "- A message is printed to confirm that the preprocessing is complete and the data is saved."
   ]
  },
  {
   "cell_type": "code",
   "execution_count": 8,
   "metadata": {},
   "outputs": [
    {
     "name": "stdout",
     "output_type": "stream",
     "text": [
      "Text preprocessing complete. Saved to processed_presidential_speeches.csv\n"
     ]
    }
   ],
   "source": [
    "# Apply preprocessing to the content column\n",
    "df['processed_content'] = df['content'].apply(preprocess_text)\n",
    "\n",
    "df.to_csv('processed_presidential_speeches.csv', index=False)\n",
    "\n",
    "print(\"Text preprocessing complete. Saved to processed_presidential_speeches.csv\")"
   ]
  },
  {
   "cell_type": "markdown",
   "metadata": {},
   "source": [
    "### This section sets up the VADER sentiment intensity analyzer, which will be used to analyze the sentiment of the preprocessed text. The function `get_sentiment` is defined to calculate the sentiment scores for a given text."
   ]
  },
  {
   "cell_type": "code",
   "execution_count": 9,
   "metadata": {},
   "outputs": [],
   "source": [
    "df = pd.read_csv('processed_presidential_speeches.csv')\n",
    "\n",
    "sia = SentimentIntensityAnalyzer()\n",
    "\n",
    "# Function to get sentiment scores\n",
    "def get_sentiment(text):\n",
    "    return sia.polarity_scores(text)"
   ]
  },
  {
   "cell_type": "markdown",
   "metadata": {},
   "source": [
    "### This code chunk applies the sentiment analysis function to the processed content of each speech. The sentiment scores (positive, negative, neutral, and compound) are calculated and stored in a new DataFrame."
   ]
  },
  {
   "cell_type": "code",
   "execution_count": 10,
   "metadata": {},
   "outputs": [
    {
     "name": "stdout",
     "output_type": "stream",
     "text": [
      "Sentiment analysis complete. Saved to presidential_speeches_with_sentiment.csv\n"
     ]
    }
   ],
   "source": [
    "# Apply sentiment analysis to the processed content\n",
    "df['sentiment'] = df['processed_content'].apply(get_sentiment)\n",
    "\n",
    "# Expand sentiment dictionary into separate columns\n",
    "sentiment_df = df['sentiment'].apply(pd.Series)\n",
    "\n",
    "# Concatenate the sentiment columns to the original dataframe\n",
    "df = pd.concat([df, sentiment_df], axis=1)\n",
    "\n",
    "# Save the dataframe with sentiment scores\n",
    "df.to_csv('presidential_speeches_with_sentiment.csv', index=False)\n",
    "\n",
    "print(\"Sentiment analysis complete. Saved to presidential_speeches_with_sentiment.csv\")"
   ]
  },
  {
   "cell_type": "code",
   "execution_count": 11,
   "metadata": {},
   "outputs": [
    {
     "name": "stdout",
     "output_type": "stream",
     "text": [
      "Title: Inaugural Address\n",
      "Date: 2021-01-20T11:52:00+00:00\n",
      "Sentiment Scores: {'neg': 0.159, 'neu': 0.563, 'pos': 0.278, 'compound': 0.9994}\n",
      "--------------------------------------------------------------------------------\n",
      "Title: Inaugural Address\n",
      "Date: 2017-01-20T12:04:00+00:00\n",
      "Sentiment Scores: {'neg': 0.095, 'neu': 0.578, 'pos': 0.326, 'compound': 0.9997}\n",
      "--------------------------------------------------------------------------------\n",
      "Title: Inaugural Address\n",
      "Date: 2013-01-21T11:55:00+00:00\n",
      "Sentiment Scores: {'neg': 0.138, 'neu': 0.581, 'pos': 0.282, 'compound': 0.9995}\n",
      "--------------------------------------------------------------------------------\n",
      "Title: Address Before a Joint Session of the Congress on the State of the Union\n",
      "Date: 2022-03-01T21:08:00+00:00\n",
      "Sentiment Scores: {'neg': 0.131, 'neu': 0.643, 'pos': 0.226, 'compound': 0.9999}\n",
      "--------------------------------------------------------------------------------\n",
      "Title: Address Before a Joint Session of the Congress on the State of the Union\n",
      "Date: 2010-01-27T21:11:00+00:00\n",
      "Sentiment Scores: {'neg': 0.147, 'neu': 0.61, 'pos': 0.242, 'compound': 0.9999}\n",
      "--------------------------------------------------------------------------------\n",
      "Title: Address Before a Joint Session of the Congress on the State of the Union\n",
      "Date: 2007-01-23T21:13:00+00:00\n",
      "Sentiment Scores: {'neg': 0.171, 'neu': 0.565, 'pos': 0.264, 'compound': 0.9998}\n",
      "--------------------------------------------------------------------------------\n"
     ]
    }
   ],
   "source": [
    "for index, row in df.iterrows():\n",
    "    sentiment_scores = sia.polarity_scores(row['processed_content'])\n",
    "    df.at[index, 'sentiment'] = sentiment_scores\n",
    "    print(f\"Title: {row['title']}\")\n",
    "    print(f\"Date: {row['date']}\")\n",
    "    print(f\"Sentiment Scores: {sentiment_scores}\")\n",
    "    print(\"-\" * 80)"
   ]
  },
  {
   "cell_type": "markdown",
   "metadata": {},
   "source": [
    "### Visualizations"
   ]
  },
  {
   "cell_type": "code",
   "execution_count": 12,
   "metadata": {},
   "outputs": [],
   "source": [
    "df = pd.read_csv('presidential_speeches_with_sentiment.csv')\n",
    "\n",
    "df['url'] = speech_urls\n",
    "\n",
    "# Map the URLs to president names\n",
    "url_to_president = {\n",
    "    'https://www.presidency.ucsb.edu/documents/inaugural-address-53': 'Joe Biden',\n",
    "    'https://www.presidency.ucsb.edu/documents/inaugural-address-14': 'Donald Trump',\n",
    "    'https://www.presidency.ucsb.edu/documents/inaugural-address-15': 'Barack Obama',\n",
    "    'https://www.presidency.ucsb.edu/documents/address-before-joint-session-the-congress-the-state-the-union-28': 'Joe Biden',\n",
    "    'https://www.presidency.ucsb.edu/documents/address-before-joint-session-the-congress-the-state-the-union-17': 'Barack Obama',\n",
    "    'https://www.presidency.ucsb.edu/documents/address-before-joint-session-the-congress-the-state-the-union': 'George W. Bush'\n",
    "}\n",
    "\n",
    "df['president'] = df['url'].map(url_to_president)\n"
   ]
  },
  {
   "cell_type": "code",
   "execution_count": 13,
   "metadata": {},
   "outputs": [
    {
     "data": {
      "image/png": "[encoded data removed]",
      "text/plain": [
       "<Figure size 1400x700 with 1 Axes>"
      ]
     },
     "metadata": {},
     "output_type": "display_data"
    }
   ],
   "source": [
    "df['date'] = pd.to_datetime(df['date'], format='%Y-%m-%dT%H:%M:%S%z', errors='coerce')\n",
    "\n",
    "# Sort dataframe by date\n",
    "df = df.sort_values(by='date')\n",
    "\n",
    "plt.figure(figsize=(14, 7))\n",
    "sns.lineplot(data=df, x='date', y='compound', hue='president', marker='o')\n",
    "plt.title('Sentiment Over Time')\n",
    "plt.xlabel('Date')\n",
    "plt.ylabel('Compound Sentiment Score')\n",
    "plt.legend(title='President')\n",
    "plt.show()"
   ]
  },
  {
   "cell_type": "markdown",
   "metadata": {},
   "source": [
    "#### Interpretation:\n",
    "This line plot visualizes the compound sentiment scores of presidential speeches over time for Barack Obama and Joe Biden. Each line represents the sentiment trajectory during their respective terms.\n",
    "\n",
    "- **Barack Obama**: The sentiment data for Obama shows a balanced sentiment throughout his presidency. His speeches often balanced optimism with realism, reflecting his focus on recovery from the financial crisis and pushing forward with healthcare reform. The steady sentiment scores indicate his consistent rhetorical approach to address both achievements and ongoing challenges.\n",
    "\n",
    "- **Joe Biden**: The data for Biden, although limited to the early years of his term, shows a high positive sentiment, likely reflecting his efforts to unite the country and address ongoing issues like the COVID-19 pandemic and economic recovery. His speeches emphasize steady and reassuring communication, aimed at maintaining public confidence during these times.\n",
    "\n",
    "These insights highlight the different rhetorical strategies employed by Obama and Biden in response to their unique political landscapes, providing a clearer understanding of their communication styles and priorities during their presidencies."
   ]
  },
  {
   "cell_type": "code",
   "execution_count": 14,
   "metadata": {},
   "outputs": [
    {
     "name": "stdout",
     "output_type": "stream",
     "text": [
      "        president    pos     neg     neu  compound\n",
      "0    Barack Obama  0.262  0.1425  0.5955   0.99970\n",
      "1    Donald Trump  0.326  0.0950  0.5780   0.99970\n",
      "2  George W. Bush  0.264  0.1710  0.5650   0.99980\n",
      "3       Joe Biden  0.252  0.1450  0.6030   0.99965\n"
     ]
    },
    {
     "data": {
      "application/vnd.plotly.v1+json": {
       "config": {
        "plotlyServerURL": "https://plot.ly"
       },
       "data": [
        {
         "alignmentgroup": "True",
         "hovertemplate": "Sentiment=pos<br>President=%{x}<br>Average Score=%{y}<extra></extra>",
         "legendgroup": "pos",
         "marker": {
          "color": "#636efa",
          "pattern": {
           "shape": ""
          }
         },
         "name": "pos",
         "offsetgroup": "pos",
         "orientation": "v",
         "showlegend": true,
         "textposition": "auto",
         "type": "bar",
         "x": [
          "Barack Obama",
          "Donald Trump",
          "George W. Bush",
          "Joe Biden"
         ],
         "xaxis": "x",
         "y": [
          0.262,
          0.326,
          0.264,
          0.252
         ],
         "yaxis": "y"
        },
        {
         "alignmentgroup": "True",
         "hovertemplate": "Sentiment=neg<br>President=%{x}<br>Average Score=%{y}<extra></extra>",
         "legendgroup": "neg",
         "marker": {
          "color": "#EF553B",
          "pattern": {
           "shape": ""
          }
         },
         "name": "neg",
         "offsetgroup": "neg",
         "orientation": "v",
         "showlegend": true,
         "textposition": "auto",
         "type": "bar",
         "x": [
          "Barack Obama",
          "Donald Trump",
          "George W. Bush",
          "Joe Biden"
         ],
         "xaxis": "x",
         "y": [
          0.14250000000000002,
          0.095,
          0.171,
          0.14500000000000002
         ],
         "yaxis": "y"
        },
        {
         "alignmentgroup": "True",
         "hovertemplate": "Sentiment=neu<br>President=%{x}<br>Average Score=%{y}<extra></extra>",
         "legendgroup": "neu",
         "marker": {
          "color": "#00cc96",
          "pattern": {
           "shape": ""
          }
         },
         "name": "neu",
         "offsetgroup": "neu",
         "orientation": "v",
         "showlegend": true,
         "textposition": "auto",
         "type": "bar",
         "x": [
          "Barack Obama",
          "Donald Trump",
          "George W. Bush",
          "Joe Biden"
         ],
         "xaxis": "x",
         "y": [
          0.5954999999999999,
          0.578,
          0.565,
          0.603
         ],
         "yaxis": "y"
        },
        {
         "alignmentgroup": "True",
         "hovertemplate": "Sentiment=compound<br>President=%{x}<br>Average Score=%{y}<extra></extra>",
         "legendgroup": "compound",
         "marker": {
          "color": "#ab63fa",
          "pattern": {
           "shape": ""
          }
         },
         "name": "compound",
         "offsetgroup": "compound",
         "orientation": "v",
         "showlegend": true,
         "textposition": "auto",
         "type": "bar",
         "x": [
          "Barack Obama",
          "Donald Trump",
          "George W. Bush",
          "Joe Biden"
         ],
         "xaxis": "x",
         "y": [
          0.9997,
          0.9997,
          0.9998,
          0.9996499999999999
         ],
         "yaxis": "y"
        }
       ],
       "layout": {
        "barmode": "group",
        "legend": {
         "title": {
          "text": "Sentiment"
         },
         "tracegroupgap": 0
        },
        "template": {
         "data": {
          "bar": [
           {
            "error_x": {
             "color": "#2a3f5f"
            },
            "error_y": {
             "color": "#2a3f5f"
            },
            "marker": {
             "line": {
              "color": "#E5ECF6",
              "width": 0.5
             },
             "pattern": {
              "fillmode": "overlay",
              "size": 10,
              "solidity": 0.2
             }
            },
            "type": "bar"
           }
          ],
          "barpolar": [
           {
            "marker": {
             "line": {
              "color": "#E5ECF6",
              "width": 0.5
             },
             "pattern": {
              "fillmode": "overlay",
              "size": 10,
              "solidity": 0.2
             }
            },
            "type": "barpolar"
           }
          ],
          "carpet": [
           {
            "aaxis": {
             "endlinecolor": "#2a3f5f",
             "gridcolor": "white",
             "linecolor": "white",
             "minorgridcolor": "white",
             "startlinecolor": "#2a3f5f"
            },
            "baxis": {
             "endlinecolor": "#2a3f5f",
             "gridcolor": "white",
             "linecolor": "white",
             "minorgridcolor": "white",
             "startlinecolor": "#2a3f5f"
            },
            "type": "carpet"
           }
          ],
          "choropleth": [
           {
            "colorbar": {
             "outlinewidth": 0,
             "ticks": ""
            },
            "type": "choropleth"
           }
          ],
          "contour": [
           {
            "colorbar": {
             "outlinewidth": 0,
             "ticks": ""
            },
            "colorscale": [
             [
              0,
              "#0d0887"
             ],
             [
              0.1111111111111111,
              "#46039f"
             ],
             [
              0.2222222222222222,
              "#7201a8"
             ],
             [
              0.3333333333333333,
              "#9c179e"
             ],
             [
              0.4444444444444444,
              "#bd3786"
             ],
             [
              0.5555555555555556,
              "#d8576b"
             ],
             [
              0.6666666666666666,
              "#ed7953"
             ],
             [
              0.7777777777777778,
              "#fb9f3a"
             ],
             [
              0.8888888888888888,
              "#fdca26"
             ],
             [
              1,
              "#f0f921"
             ]
            ],
            "type": "contour"
           }
          ],
          "contourcarpet": [
           {
            "colorbar": {
             "outlinewidth": 0,
             "ticks": ""
            },
            "type": "contourcarpet"
           }
          ],
          "heatmap": [
           {
            "colorbar": {
             "outlinewidth": 0,
             "ticks": ""
            },
            "colorscale": [
             [
              0,
              "#0d0887"
             ],
             [
              0.1111111111111111,
              "#46039f"
             ],
             [
              0.2222222222222222,
              "#7201a8"
             ],
             [
              0.3333333333333333,
              "#9c179e"
             ],
             [
              0.4444444444444444,
              "#bd3786"
             ],
             [
              0.5555555555555556,
              "#d8576b"
             ],
             [
              0.6666666666666666,
              "#ed7953"
             ],
             [
              0.7777777777777778,
              "#fb9f3a"
             ],
             [
              0.8888888888888888,
              "#fdca26"
             ],
             [
              1,
              "#f0f921"
             ]
            ],
            "type": "heatmap"
           }
          ],
          "heatmapgl": [
           {
            "colorbar": {
             "outlinewidth": 0,
             "ticks": ""
            },
            "colorscale": [
             [
              0,
              "#0d0887"
             ],
             [
              0.1111111111111111,
              "#46039f"
             ],
             [
              0.2222222222222222,
              "#7201a8"
             ],
             [
              0.3333333333333333,
              "#9c179e"
             ],
             [
              0.4444444444444444,
              "#bd3786"
             ],
             [
              0.5555555555555556,
              "#d8576b"
             ],
             [
              0.6666666666666666,
              "#ed7953"
             ],
             [
              0.7777777777777778,
              "#fb9f3a"
             ],
             [
              0.8888888888888888,
              "#fdca26"
             ],
             [
              1,
              "#f0f921"
             ]
            ],
            "type": "heatmapgl"
           }
          ],
          "histogram": [
           {
            "marker": {
             "pattern": {
              "fillmode": "overlay",
              "size": 10,
              "solidity": 0.2
             }
            },
            "type": "histogram"
           }
          ],
          "histogram2d": [
           {
            "colorbar": {
             "outlinewidth": 0,
             "ticks": ""
            },
            "colorscale": [
             [
              0,
              "#0d0887"
             ],
             [
              0.1111111111111111,
              "#46039f"
             ],
             [
              0.2222222222222222,
              "#7201a8"
             ],
             [
              0.3333333333333333,
              "#9c179e"
             ],
             [
              0.4444444444444444,
              "#bd3786"
             ],
             [
              0.5555555555555556,
              "#d8576b"
             ],
             [
              0.6666666666666666,
              "#ed7953"
             ],
             [
              0.7777777777777778,
              "#fb9f3a"
             ],
             [
              0.8888888888888888,
              "#fdca26"
             ],
             [
              1,
              "#f0f921"
             ]
            ],
            "type": "histogram2d"
           }
          ],
          "histogram2dcontour": [
           {
            "colorbar": {
             "outlinewidth": 0,
             "ticks": ""
            },
            "colorscale": [
             [
              0,
              "#0d0887"
             ],
             [
              0.1111111111111111,
              "#46039f"
             ],
             [
              0.2222222222222222,
              "#7201a8"
             ],
             [
              0.3333333333333333,
              "#9c179e"
             ],
             [
              0.4444444444444444,
              "#bd3786"
             ],
             [
              0.5555555555555556,
              "#d8576b"
             ],
             [
              0.6666666666666666,
              "#ed7953"
             ],
             [
              0.7777777777777778,
              "#fb9f3a"
             ],
             [
              0.8888888888888888,
              "#fdca26"
             ],
             [
              1,
              "#f0f921"
             ]
            ],
            "type": "histogram2dcontour"
           }
          ],
          "mesh3d": [
           {
            "colorbar": {
             "outlinewidth": 0,
             "ticks": ""
            },
            "type": "mesh3d"
           }
          ],
          "parcoords": [
           {
            "line": {
             "colorbar": {
              "outlinewidth": 0,
              "ticks": ""
             }
            },
            "type": "parcoords"
           }
          ],
          "pie": [
           {
            "automargin": true,
            "type": "pie"
           }
          ],
          "scatter": [
           {
            "fillpattern": {
             "fillmode": "overlay",
             "size": 10,
             "solidity": 0.2
            },
            "type": "scatter"
           }
          ],
          "scatter3d": [
           {
            "line": {
             "colorbar": {
              "outlinewidth": 0,
              "ticks": ""
             }
            },
            "marker": {
             "colorbar": {
              "outlinewidth": 0,
              "ticks": ""
             }
            },
            "type": "scatter3d"
           }
          ],
          "scattercarpet": [
           {
            "marker": {
             "colorbar": {
              "outlinewidth": 0,
              "ticks": ""
             }
            },
            "type": "scattercarpet"
           }
          ],
          "scattergeo": [
           {
            "marker": {
             "colorbar": {
              "outlinewidth": 0,
              "ticks": ""
             }
            },
            "type": "scattergeo"
           }
          ],
          "scattergl": [
           {
            "marker": {
             "colorbar": {
              "outlinewidth": 0,
              "ticks": ""
             }
            },
            "type": "scattergl"
           }
          ],
          "scattermapbox": [
           {
            "marker": {
             "colorbar": {
              "outlinewidth": 0,
              "ticks": ""
             }
            },
            "type": "scattermapbox"
           }
          ],
          "scatterpolar": [
           {
            "marker": {
             "colorbar": {
              "outlinewidth": 0,
              "ticks": ""
             }
            },
            "type": "scatterpolar"
           }
          ],
          "scatterpolargl": [
           {
            "marker": {
             "colorbar": {
              "outlinewidth": 0,
              "ticks": ""
             }
            },
            "type": "scatterpolargl"
           }
          ],
          "scatterternary": [
           {
            "marker": {
             "colorbar": {
              "outlinewidth": 0,
              "ticks": ""
             }
            },
            "type": "scatterternary"
           }
          ],
          "surface": [
           {
            "colorbar": {
             "outlinewidth": 0,
             "ticks": ""
            },
            "colorscale": [
             [
              0,
              "#0d0887"
             ],
             [
              0.1111111111111111,
              "#46039f"
             ],
             [
              0.2222222222222222,
              "#7201a8"
             ],
             [
              0.3333333333333333,
              "#9c179e"
             ],
             [
              0.4444444444444444,
              "#bd3786"
             ],
             [
              0.5555555555555556,
              "#d8576b"
             ],
             [
              0.6666666666666666,
              "#ed7953"
             ],
             [
              0.7777777777777778,
              "#fb9f3a"
             ],
             [
              0.8888888888888888,
              "#fdca26"
             ],
             [
              1,
              "#f0f921"
             ]
            ],
            "type": "surface"
           }
          ],
          "table": [
           {
            "cells": {
             "fill": {
              "color": "#EBF0F8"
             },
             "line": {
              "color": "white"
             }
            },
            "header": {
             "fill": {
              "color": "#C8D4E3"
             },
             "line": {
              "color": "white"
             }
            },
            "type": "table"
           }
          ]
         },
         "layout": {
          "annotationdefaults": {
           "arrowcolor": "#2a3f5f",
           "arrowhead": 0,
           "arrowwidth": 1
          },
          "autotypenumbers": "strict",
          "coloraxis": {
           "colorbar": {
            "outlinewidth": 0,
            "ticks": ""
           }
          },
          "colorscale": {
           "diverging": [
            [
             0,
             "#8e0152"
            ],
            [
             0.1,
             "#c51b7d"
            ],
            [
             0.2,
             "#de77ae"
            ],
            [
             0.3,
             "#f1b6da"
            ],
            [
             0.4,
             "#fde0ef"
            ],
            [
             0.5,
             "#f7f7f7"
            ],
            [
             0.6,
             "#e6f5d0"
            ],
            [
             0.7,
             "#b8e186"
            ],
            [
             0.8,
             "#7fbc41"
            ],
            [
             0.9,
             "#4d9221"
            ],
            [
             1,
             "#276419"
            ]
           ],
           "sequential": [
            [
             0,
             "#0d0887"
            ],
            [
             0.1111111111111111,
             "#46039f"
            ],
            [
             0.2222222222222222,
             "#7201a8"
            ],
            [
             0.3333333333333333,
             "#9c179e"
            ],
            [
             0.4444444444444444,
             "#bd3786"
            ],
            [
             0.5555555555555556,
             "#d8576b"
            ],
            [
             0.6666666666666666,
             "#ed7953"
            ],
            [
             0.7777777777777778,
             "#fb9f3a"
            ],
            [
             0.8888888888888888,
             "#fdca26"
            ],
            [
             1,
             "#f0f921"
            ]
           ],
           "sequentialminus": [
            [
             0,
             "#0d0887"
            ],
            [
             0.1111111111111111,
             "#46039f"
            ],
            [
             0.2222222222222222,
             "#7201a8"
            ],
            [
             0.3333333333333333,
             "#9c179e"
            ],
            [
             0.4444444444444444,
             "#bd3786"
            ],
            [
             0.5555555555555556,
             "#d8576b"
            ],
            [
             0.6666666666666666,
             "#ed7953"
            ],
            [
             0.7777777777777778,
             "#fb9f3a"
            ],
            [
             0.8888888888888888,
             "#fdca26"
            ],
            [
             1,
             "#f0f921"
            ]
           ]
          },
          "colorway": [
           "#636efa",
           "#EF553B",
           "#00cc96",
           "#ab63fa",
           "#FFA15A",
           "#19d3f3",
           "#FF6692",
           "#B6E880",
           "#FF97FF",
           "#FECB52"
          ],
          "font": {
           "color": "#2a3f5f"
          },
          "geo": {
           "bgcolor": "white",
           "lakecolor": "white",
           "landcolor": "#E5ECF6",
           "showlakes": true,
           "showland": true,
           "subunitcolor": "white"
          },
          "hoverlabel": {
           "align": "left"
          },
          "hovermode": "closest",
          "mapbox": {
           "style": "light"
          },
          "paper_bgcolor": "white",
          "plot_bgcolor": "#E5ECF6",
          "polar": {
           "angularaxis": {
            "gridcolor": "white",
            "linecolor": "white",
            "ticks": ""
           },
           "bgcolor": "#E5ECF6",
           "radialaxis": {
            "gridcolor": "white",
            "linecolor": "white",
            "ticks": ""
           }
          },
          "scene": {
           "xaxis": {
            "backgroundcolor": "#E5ECF6",
            "gridcolor": "white",
            "gridwidth": 2,
            "linecolor": "white",
            "showbackground": true,
            "ticks": "",
            "zerolinecolor": "white"
           },
           "yaxis": {
            "backgroundcolor": "#E5ECF6",
            "gridcolor": "white",
            "gridwidth": 2,
            "linecolor": "white",
            "showbackground": true,
            "ticks": "",
            "zerolinecolor": "white"
           },
           "zaxis": {
            "backgroundcolor": "#E5ECF6",
            "gridcolor": "white",
            "gridwidth": 2,
            "linecolor": "white",
            "showbackground": true,
            "ticks": "",
            "zerolinecolor": "white"
           }
          },
          "shapedefaults": {
           "line": {
            "color": "#2a3f5f"
           }
          },
          "ternary": {
           "aaxis": {
            "gridcolor": "white",
            "linecolor": "white",
            "ticks": ""
           },
           "baxis": {
            "gridcolor": "white",
            "linecolor": "white",
            "ticks": ""
           },
           "bgcolor": "#E5ECF6",
           "caxis": {
            "gridcolor": "white",
            "linecolor": "white",
            "ticks": ""
           }
          },
          "title": {
           "x": 0.05
          },
          "xaxis": {
           "automargin": true,
           "gridcolor": "white",
           "linecolor": "white",
           "ticks": "",
           "title": {
            "standoff": 15
           },
           "zerolinecolor": "white",
           "zerolinewidth": 2
          },
          "yaxis": {
           "automargin": true,
           "gridcolor": "white",
           "linecolor": "white",
           "ticks": "",
           "title": {
            "standoff": 15
           },
           "zerolinecolor": "white",
           "zerolinewidth": 2
          }
         }
        },
        "title": {
         "text": "Average Sentiment Scores by President"
        },
        "xaxis": {
         "anchor": "y",
         "domain": [
          0,
          1
         ],
         "title": {
          "text": "President"
         }
        },
        "yaxis": {
         "anchor": "x",
         "domain": [
          0,
          1
         ],
         "title": {
          "text": "Average Score"
         }
        }
       }
      }
     },
     "metadata": {},
     "output_type": "display_data"
    }
   ],
   "source": [
    "import plotly.graph_objects as go\n",
    "import plotly.express as px\n",
    "\n",
    "# Calculate average sentiment scores by president\n",
    "average_sentiments = df.groupby('president')[['pos', 'neg', 'neu', 'compound']].mean().reset_index()\n",
    "\n",
    "melted_avg_sentiments = average_sentiments.melt(id_vars='president', var_name='Sentiment', value_name='Score')\n",
    "\n",
    "fig = px.bar(\n",
    "    melted_avg_sentiments,\n",
    "    x='president',\n",
    "    y='Score',\n",
    "    color='Sentiment',\n",
    "    barmode='group',\n",
    "    title='Average Sentiment Scores by President',\n",
    "    labels={'Score': 'Average Score', 'president': 'President'}\n",
    ")\n",
    "\n",
    "fig.show()"
   ]
  },
  {
   "cell_type": "markdown",
   "metadata": {},
   "source": [
    "#### Interpretation:\n",
    "This bar chart compares the average sentiment scores (positive, negative, and compound) for each president. By analyzing these scores, we can infer the overall emotional tone of each president's speeches.\n",
    "\n",
    "- **Barack Obama**: Exhibits a balanced emotional tone with moderate positive and negative sentiment scores. This suggests a measured approach in addressing both challenges and achievements.\n",
    "- **Donald Trump**: Shows the highest average positive sentiment among the presidents analyzed, indicating a more optimistic and perhaps assertive rhetorical style.\n",
    "- **George W. Bush**: Has the highest average negative sentiment score, reflecting the turbulent times of his presidency, such as post-9/11 events and the Iraq War.\n",
    "- **Joe Biden**: Displays the highest average neutral sentiment, suggesting a focus on informative and steady communication, possibly to maintain public confidence during ongoing crises like the COVID-19 pandemic.\n",
    "\n",
    "These interpretations highlight how each president's rhetoric aligns with their political context and the challenges they faced, providing insights into their communication strategies and the overall emotional tone of their public addresses."
   ]
  }
 ],
 "metadata": {
  "kernelspec": {
   "display_name": "sps620env",
   "language": "python",
   "name": "python3"
  },
  "language_info": {
   "codemirror_mode": {
    "name": "ipython",
    "version": 3
   },
   "file_extension": ".py",
   "mimetype": "text/x-python",
   "name": "python",
   "nbconvert_exporter": "python",
   "pygments_lexer": "ipython3",
   "version": "3.7.16"
  }
 },
 "nbformat": 4,
 "nbformat_minor": 2
}
