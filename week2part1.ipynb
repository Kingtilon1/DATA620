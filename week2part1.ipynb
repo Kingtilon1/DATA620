{
 "cells": [
  {
   "cell_type": "code",
   "execution_count": 3,
   "metadata": {},
   "outputs": [],
   "source": [
    "import networkx as nx\n",
    "import matplotlib.pyplot as plt\n",
    "import random"
   ]
  },
  {
   "cell_type": "code",
   "execution_count": 4,
   "metadata": {},
   "outputs": [],
   "source": [
    "G = nx.read_edgelist(\"email.txt\",create_using=nx.DiGraph(), nodetype = int)"
   ]
  },
  {
   "cell_type": "code",
   "execution_count": 5,
   "metadata": {},
   "outputs": [],
   "source": [
    "if not nx.is_weakly_connected(G):\n",
    "    # Find the largest weakly connected component\n",
    "    wcc = max(nx.weakly_connected_components(G), key=len)\n",
    "    G = G.subgraph(wcc).copy()"
   ]
  },
  {
   "cell_type": "code",
   "execution_count": 6,
   "metadata": {},
   "outputs": [
    {
     "name": "stdout",
     "output_type": "stream",
     "text": [
      "Diameter of the largest weakly connected component: 7\n",
      "Average clustering coefficient: 0.40705044751953817\n"
     ]
    }
   ],
   "source": [
    "diameter = nx.diameter(G.to_undirected())\n",
    "print(f\"Diameter of the largest weakly connected component: {diameter}\")\n",
    "\n",
    "avg_clustering_coefficient = nx.average_clustering(G.to_undirected())\n",
    "print(f\"Average clustering coefficient: {avg_clustering_coefficient}\")"
   ]
  },
  {
   "cell_type": "code",
   "execution_count": null,
   "metadata": {},
   "outputs": [],
   "source": [
    "sampled = random.sample(list(G.edges()), 100)\n",
    "sampled_graph = nx.Graph(sampled)\n",
    "plt.figure(figsize=(10, 6))\n",
    "nx.draw(sampled_graph, with_labels=True, node_color='skyblue', node_size=200, edge_color='gray')\n",
    "plt.title('Email Communication Network')\n",
    "plt.show()"
   ]
  }
 ],
 "metadata": {
  "kernelspec": {
   "display_name": "sps620env",
   "language": "python",
   "name": "python3"
  },
  "language_info": {
   "codemirror_mode": {
    "name": "ipython",
    "version": 3
   },
   "file_extension": ".py",
   "mimetype": "text/x-python",
   "name": "python",
   "nbconvert_exporter": "python",
   "pygments_lexer": "ipython3",
   "version": "3.7.16"
  }
 },
 "nbformat": 4,
 "nbformat_minor": 2
}
