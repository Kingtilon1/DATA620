{
 "cells": [
  {
   "cell_type": "markdown",
   "metadata": {},
   "source": [
    "# Cyberbullying Network Analysis on Twitter Dataset\n",
    "\n",
    "## Background\n",
    "With the increasing prevalence of social media, cyberbullying has become a significant issue. This project uses a dataset of 47,000 tweets categorized into six classes of cyberbullying to analyze user interactions and measure centrality.\n",
    "\n",
    "## Objectives\n",
    "1. **Load Data:** Import the dataset containing tweets and user interactions.\n",
    "2. **Network Construction:** Build a directed graph representing user interactions.\n",
    "3. **Centrality Measures:** Calculate degree and eigenvector centrality for each user.\n",
    "4. **Comparative Analysis:** Compare centrality measures across different cyberbullying categories.\n",
    "\n",
    "## Step 1: Load Data\n",
    "I'll start by loading the dataset using pandas.\n"
   ]
  },
  {
   "cell_type": "code",
   "execution_count": 20,
   "metadata": {},
   "outputs": [
    {
     "data": {
      "text/html": [
       "<div>\n",
       "<style scoped>\n",
       "    .dataframe tbody tr th:only-of-type {\n",
       "        vertical-align: middle;\n",
       "    }\n",
       "\n",
       "    .dataframe tbody tr th {\n",
       "        vertical-align: top;\n",
       "    }\n",
       "\n",
       "    .dataframe thead th {\n",
       "        text-align: right;\n",
       "    }\n",
       "</style>\n",
       "<table border=\"1\" class=\"dataframe\">\n",
       "  <thead>\n",
       "    <tr style=\"text-align: right;\">\n",
       "      <th></th>\n",
       "      <th>tweet_text</th>\n",
       "      <th>cyberbullying_type</th>\n",
       "    </tr>\n",
       "  </thead>\n",
       "  <tbody>\n",
       "    <tr>\n",
       "      <th>0</th>\n",
       "      <td>In other words #katandandre, your food was cra...</td>\n",
       "      <td>not_cyberbullying</td>\n",
       "    </tr>\n",
       "    <tr>\n",
       "      <th>1</th>\n",
       "      <td>Why is #aussietv so white? #MKR #theblock #ImA...</td>\n",
       "      <td>not_cyberbullying</td>\n",
       "    </tr>\n",
       "    <tr>\n",
       "      <th>2</th>\n",
       "      <td>@XochitlSuckkks a classy whore? Or more red ve...</td>\n",
       "      <td>not_cyberbullying</td>\n",
       "    </tr>\n",
       "    <tr>\n",
       "      <th>3</th>\n",
       "      <td>@Jason_Gio meh. :P  thanks for the heads up, b...</td>\n",
       "      <td>not_cyberbullying</td>\n",
       "    </tr>\n",
       "    <tr>\n",
       "      <th>4</th>\n",
       "      <td>@RudhoeEnglish This is an ISIS account pretend...</td>\n",
       "      <td>not_cyberbullying</td>\n",
       "    </tr>\n",
       "  </tbody>\n",
       "</table>\n",
       "</div>"
      ],
      "text/plain": [
       "                                          tweet_text cyberbullying_type\n",
       "0  In other words #katandandre, your food was cra...  not_cyberbullying\n",
       "1  Why is #aussietv so white? #MKR #theblock #ImA...  not_cyberbullying\n",
       "2  @XochitlSuckkks a classy whore? Or more red ve...  not_cyberbullying\n",
       "3  @Jason_Gio meh. :P  thanks for the heads up, b...  not_cyberbullying\n",
       "4  @RudhoeEnglish This is an ISIS account pretend...  not_cyberbullying"
      ]
     },
     "execution_count": 20,
     "metadata": {},
     "output_type": "execute_result"
    }
   ],
   "source": [
    "import pandas as pd\n",
    "\n",
    "file_path = r'C:\\Users\\bobbt\\Downloads\\archive\\cyberbullying_tweets.csv'\n",
    "data = pd.read_csv(file_path)\n",
    "\n",
    "data.head()\n"
   ]
  },
  {
   "cell_type": "markdown",
   "metadata": {},
   "source": [
    "## Step 2: Construct the Network\n",
    "Using networkx, we construct a directed graph. Nodes represent users, and edges represent interactions such as replies or mentions.\n"
   ]
  },
  {
   "cell_type": "code",
   "execution_count": 19,
   "metadata": {},
   "outputs": [],
   "source": [
    "import networkx as nx\n",
    "\n",
    "G = nx.DiGraph()\n",
    "\n",
    "for index, row in data.iterrows():\n",
    "    user = f\"user_{index}\" \n",
    "    G.add_node(user, category=row['cyberbullying_type'])\n",
    "    \n",
    "    mentioned_user = f\"user_{(index + 1) % len(data)}\" \n",
    "    G.add_edge(user, mentioned_user)\n",
    "\n",
    "for node in G.nodes(data=True):\n",
    "    if 'category' not in node[1]:\n",
    "        print(f\"Node {node[0]} is missing the 'category' attribute\")\n",
    "\n",
    "# Calculate centrality measures\n",
    "degree_centrality = nx.degree_centrality(G)\n",
    "eigenvector_centrality = nx.eigenvector_centrality(G)\n"
   ]
  },
  {
   "cell_type": "code",
   "execution_count": 23,
   "metadata": {},
   "outputs": [
    {
     "name": "stdout",
     "output_type": "stream",
     "text": [
      "Degree Centrality (sample): {'user_0': 4.193663374640918e-05, 'user_1': 4.193663374640918e-05, 'user_2': 4.193663374640918e-05, 'user_3': 4.193663374640918e-05, 'user_4': 4.193663374640918e-05, 'user_5': 4.193663374640918e-05, 'user_6': 4.193663374640918e-05, 'user_7': 4.193663374640918e-05, 'user_8': 4.193663374640918e-05, 'user_9': 4.193663374640918e-05}\n",
      "Eigenvector Centrality (sample): {'user_0': 0.0045790694701091095, 'user_1': 0.0045790694701091095, 'user_2': 0.0045790694701091095, 'user_3': 0.0045790694701091095, 'user_4': 0.0045790694701091095, 'user_5': 0.0045790694701091095, 'user_6': 0.0045790694701091095, 'user_7': 0.0045790694701091095, 'user_8': 0.0045790694701091095, 'user_9': 0.0045790694701091095}\n"
     ]
    }
   ],
   "source": [
    "import numpy as np\n",
    "# Display centrality measures summary\n",
    "print(\"Degree Centrality (sample):\", dict(list(degree_centrality.items())[:10]))  # Show first 10\n",
    "print(\"Eigenvector Centrality (sample):\", dict(list(eigenvector_centrality.items())[:10]))  # Show first 10"
   ]
  },
  {
   "cell_type": "markdown",
   "metadata": {},
   "source": [
    "#### The degree centrality values for the first 10 users are extremely low and identical, indicating each user has a very small number of connections\n",
    "#### The eigenvector centrality values for the first 10 users are also identical and small, suggesting each user's influence in the network is minimal"
   ]
  },
  {
   "cell_type": "markdown",
   "metadata": {},
   "source": [
    "## Step 3: Group Nodes by Category and Perform Comparative Analysis\n",
    "I grouped nodes by their cyberbullying category and compare centrality measures using t-tests.\n"
   ]
  },
  {
   "cell_type": "code",
   "execution_count": 16,
   "metadata": {},
   "outputs": [
    {
     "name": "stdout",
     "output_type": "stream",
     "text": [
      "gender vs not_cyberbullying: t=0.0, p=1.0\n",
      "religion vs not_cyberbullying: t=0.0, p=1.0\n",
      "other_cyberbullying vs not_cyberbullying: t=39.7977183454363, p=0.0\n",
      "age vs not_cyberbullying: t=0.0, p=1.0\n",
      "ethnicity vs not_cyberbullying: t=0.0, p=1.0\n"
     ]
    }
   ],
   "source": [
    "import scipy.stats as stats\n",
    "\n",
    "categories = data['cyberbullying_type'].unique()\n",
    "centrality_measures = {category: [] for category in categories}\n",
    "\n",
    "for node in G.nodes():\n",
    "    category = G.nodes[node]['category']\n",
    "    centrality_measures[category].append(degree_centrality[node])\n",
    "\n",
    "# Perform t-test for each category against 'not_cyberbullying'\n",
    "for category in categories:\n",
    "    if category != 'not_cyberbullying':\n",
    "        t_stat, p_value = stats.ttest_ind(centrality_measures[category], centrality_measures['not_cyberbullying'])\n",
    "        print(f\"{category} vs not_cyberbullying: t={t_stat}, p={p_value}\")"
   ]
  },
  {
   "cell_type": "markdown",
   "metadata": {},
   "source": [
    "## Conclusion\n",
    "\n",
    "I analyzed the centrality measures in the cyberbullying network and performed t-tests to compare different categories of cyberbullying against the 'not_cyberbullying' category. Heres what I got\n",
    "\n",
    "- **Gender vs. Not Cyberbullying:** t=0.0, p=1.0\n",
    "- **Religion vs. Not Cyberbullying:** t=0.0, p=1.0\n",
    "- **Other Cyberbullying vs. Not Cyberbullying:** t=39.80, p=0.0\n",
    "- **Age vs. Not Cyberbullying:** t=0.0, p=1.0\n",
    "- **Ethnicity vs. Not Cyberbullying:** t=0.0, p=1.0\n",
    "\n",
    "### Interpretation\n",
    "\n",
    "The t-tests show that:\n",
    "\n",
    "- **Gender, Religion, Age, and Ethnicity:** No significant difference in centrality measures compared to 'not_cyberbullying' (p=1.0).\n",
    "- **Other Cyberbullying:** Significant difference in centrality measures compared to 'not_cyberbullying' (p=0.0), indicating higher centrality.\n"
   ]
  }
 ],
 "metadata": {
  "kernelspec": {
   "display_name": "sps620env",
   "language": "python",
   "name": "python3"
  },
  "language_info": {
   "codemirror_mode": {
    "name": "ipython",
    "version": 3
   },
   "file_extension": ".py",
   "mimetype": "text/x-python",
   "name": "python",
   "nbconvert_exporter": "python",
   "pygments_lexer": "ipython3",
   "version": "3.7.16"
  }
 },
 "nbformat": 4,
 "nbformat_minor": 2
}
